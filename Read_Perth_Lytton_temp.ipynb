{
 "cells": [
  {
   "cell_type": "code",
   "execution_count": null,
   "metadata": {},
   "outputs": [],
   "source": [
    "import csv\n",
    "import numpy as np\n",
    "import matplotlib.pyplot as plt\n",
    "import datetime\n",
    "# %matplotlib notebook"
   ]
  },
  {
   "cell_type": "code",
   "execution_count": null,
   "metadata": {},
   "outputs": [],
   "source": [
    "#Datetime is in ISO format - maybe UTC ?\n",
    "low_date = '2021-06-01T00:00:00'\n",
    "up_date = '2021-06-28T23:30:00'"
   ]
  },
  {
   "cell_type": "code",
   "execution_count": null,
   "metadata": {},
   "outputs": [],
   "source": [
    "vanc_temp_ser = []\n",
    "vanc_time_ser = []\n",
    "vanc_iso_time_ser = []\n",
    "\n",
    "fname = '71891099999.csv' #Lytton, CA\n",
    "# fname = '71765099999.csv'\n",
    "with open(fname, newline='') as csvfile: \n",
    "    reader = csv.DictReader(csvfile)\n",
    "    for row in reader:\n",
    "#         temp = row['DEW']\n",
    "        temp = row['TMP']\n",
    "        Loc_vanc = row['NAME']\n",
    "        temp = temp.split(',')\n",
    "        vanc_time = datetime.datetime.fromisoformat(row['DATE']).timestamp()\n",
    "        vanc_time_ser = np.append(vanc_time_ser, vanc_time)\n",
    "        vanc_iso_time_ser = np.append(vanc_iso_time_ser, datetime.datetime.fromisoformat(row['DATE']))\n",
    "#         print(row['DATE'], float(temp[0]))\n",
    "        if temp[1]=='1':\n",
    "            vanc_temp_ser = np.append(vanc_temp_ser,float(temp[0]))            \n",
    "        else:\n",
    "            vanc_temp_ser = np.append(vanc_temp_ser, -1e6)\n",
    "            \n",
    "low_tstamp = datetime.datetime.fromisoformat(low_date).timestamp()\n",
    "high_tstamp = datetime.datetime.fromisoformat(up_date).timestamp()\n",
    "\n",
    "indices_vanc = np.where((vanc_time_ser>low_tstamp) & (vanc_time_ser<high_tstamp))[0]"
   ]
  },
  {
   "cell_type": "code",
   "execution_count": null,
   "metadata": {},
   "outputs": [],
   "source": [
    "pe_temp_ser = []\n",
    "pe_time_ser = []\n",
    "pe_iso_time_ser = []\n",
    "\n",
    "fname = '94610099999.csv'\n",
    "\n",
    "with open(fname, newline='') as csvfile: \n",
    "    reader = csv.DictReader(csvfile)\n",
    "    for row in reader:\n",
    "#         temp = row['DEW']\n",
    "        temp = row['TMP']\n",
    "        Loc_pe = row['NAME']\n",
    "        temp = temp.split(',')\n",
    "        pe_time = datetime.datetime.fromisoformat(row['DATE']).timestamp()\n",
    "        pe_time_ser = np.append(pe_time_ser, pe_time)\n",
    "        pe_iso_time_ser = np.append(pe_iso_time_ser, datetime.datetime.fromisoformat(row['DATE']))\n",
    "#         print(row['DATE'], float(temp[0]))\n",
    "        if temp[1]=='1':\n",
    "            pe_temp_ser = np.append(pe_temp_ser,float(temp[0]))            \n",
    "        else:\n",
    "            pe_temp_ser = np.append(pe_temp_ser, -1e6)\n",
    "            \n",
    "low_tstamp = datetime.datetime.fromisoformat(low_date).timestamp()\n",
    "high_tstamp = datetime.datetime.fromisoformat(up_date).timestamp()\n",
    "\n",
    "indices_pe = np.where((pe_time_ser>low_tstamp) & (pe_time_ser<high_tstamp))[0]"
   ]
  },
  {
   "cell_type": "code",
   "execution_count": null,
   "metadata": {},
   "outputs": [],
   "source": [
    "plt.rcParams.update({'font.size': 16})\n",
    "\n",
    "plt.figure(figsize=(16,9))\n",
    "plt.plot(pe_iso_time_ser, pe_temp_ser/10, color='red', label=Loc_pe)\n",
    "plt.plot(vanc_iso_time_ser, vanc_temp_ser/10, color='blue', label=Loc_vanc)\n",
    "plt.ylim([-20,50])\n",
    "plt.xlabel(\"Date\")\n",
    "plt.ylabel(r\"Temp in $^{\\circ}$C\")\n",
    "plt.grid()\n",
    "plt.legend(loc='best')\n",
    "# plt.savefig(\"Perth_overall.jpg\", dpi=100, bbox_inches='tight')\n",
    "\n",
    "plt.figure(figsize=(16,9))\n",
    "plt.plot(pe_iso_time_ser[indices_pe], pe_temp_ser[indices_pe]/10, color='red', label=Loc_pe)\n",
    "plt.plot(vanc_iso_time_ser[indices_vanc], vanc_temp_ser[indices_vanc]/10, color='blue', label=Loc_vanc)\n",
    "plt.ylim([0,50])\n",
    "plt.xlabel(\"Date\")\n",
    "plt.ylabel(r\"Temp in $^{\\circ}$C\")\n",
    "plt.grid()\n",
    "plt.legend(loc='best')\n",
    "# plt.savefig(\"Perth_and_canada_june.jpg\", dpi=100, bbox_inches='tight')"
   ]
  },
  {
   "cell_type": "code",
   "execution_count": null,
   "metadata": {},
   "outputs": [],
   "source": []
  }
 ],
 "metadata": {
  "kernelspec": {
   "display_name": "Python 3",
   "language": "python",
   "name": "python3"
  },
  "language_info": {
   "codemirror_mode": {
    "name": "ipython",
    "version": 3
   },
   "file_extension": ".py",
   "mimetype": "text/x-python",
   "name": "python",
   "nbconvert_exporter": "python",
   "pygments_lexer": "ipython3",
   "version": "3.11.1"
  }
 },
 "nbformat": 4,
 "nbformat_minor": 4
}
