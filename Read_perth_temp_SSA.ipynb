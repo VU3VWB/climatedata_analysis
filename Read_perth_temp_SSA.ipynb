{
 "cells": [
  {
   "cell_type": "code",
   "execution_count": null,
   "metadata": {},
   "outputs": [],
   "source": [
    "import numpy as np\n",
    "import matplotlib.pyplot as plt\n",
    "import datetime\n",
    "from scipy import interpolate\n",
    "\n",
    "def embed_ts(array_ts, N, L, K):\n",
    "    embed_matrix = np.zeros([L, K])\n",
    "    for k in range(L):\n",
    "        embed_matrix[k,:] = array_ts[k:k+K]\n",
    "    return embed_matrix\n",
    "\n",
    "def deembed_ts(matrix_embed, N, L, K):\n",
    "    recon_ts = np.zeros(N)\n",
    "    for n in range(N):\n",
    "        recon_ts[n] = np.mean(np.fliplr(matrix_embed).diagonal(offset = K-n-1)) #THIS IS THE CORRECT ALGORITHM !!!!!!!!\n",
    "    return recon_ts"
   ]
  },
  {
   "cell_type": "code",
   "execution_count": null,
   "metadata": {},
   "outputs": [],
   "source": [
    "calicut_temp = [] = []\n",
    "calicut_iso_time = []\n",
    "calicut_time = []\n",
    "PATH = \"../../CLIMATE_DATA/PERTH/\"\n",
    "for year in range(1973,2022):\n",
    "    fname = \"temp_\"+str(year)+\".csv\" \n",
    "    f = open(PATH+fname, 'r')\n",
    "    for line in f:\n",
    "        line = line.strip()\n",
    "        line = line.split()\n",
    "        temp = float(line[1].split(\",\")[0])/10\n",
    "        if temp < 800:\n",
    "            calicut_iso_time = np.append(calicut_iso_time, datetime.datetime.fromisoformat(line[0]))\n",
    "            calicut_time = np.append(calicut_time, datetime.datetime.fromisoformat(line[0]).timestamp())\n",
    "            calicut_temp = np.append(calicut_temp, temp)"
   ]
  },
  {
   "cell_type": "code",
   "execution_count": null,
   "metadata": {},
   "outputs": [],
   "source": [
    "Ndays = int((np.max(calicut_time) - np.min(calicut_time))/(86400))\n",
    "\n",
    "binned_times = np.linspace(np.min(calicut_time), np.min(calicut_time)+(Ndays*86400), Ndays)\n",
    "binned_iso_time = []\n",
    "temp_interp = interpolate.interp1d(calicut_time, calicut_temp)\n",
    "inter_ctemp = temp_interp(binned_times)\n",
    "\n",
    "for time in binned_times:\n",
    "    binned_iso_time = np.append(binned_iso_time, datetime.datetime.fromtimestamp(time))"
   ]
  },
  {
   "cell_type": "code",
   "execution_count": null,
   "metadata": {},
   "outputs": [],
   "source": [
    "N = len(binned_times)\n",
    "L = 365\n",
    "\n",
    "K = N-L+1\n",
    "X_auto11 = embed_ts(inter_ctemp, N=N, L=L, K=K)\n",
    "u, s, vh = np.linalg.svd(X_auto11, full_matrices=False)\n",
    "compon_0 = deembed_ts(np.matmul(np.expand_dims(u[:,0], axis=1), np.expand_dims(vh[0,:], axis=0)), N=N, L=L, K=K)*s[0]\n"
   ]
  },
  {
   "cell_type": "code",
   "execution_count": null,
   "metadata": {},
   "outputs": [],
   "source": [
    "plt.figure(figsize=(16,9))\n",
    "plt.plot(calicut_iso_time, calicut_temp)\n",
    "plt.ylim(20,40)\n",
    "\n",
    "plt.figure(figsize=(16,9))\n",
    "plt.plot(binned_iso_time, inter_ctemp)\n",
    "plt.plot(binned_iso_time, compon_0)\n",
    "plt.ylim(20,40)"
   ]
  },
  {
   "cell_type": "code",
   "execution_count": null,
   "metadata": {},
   "outputs": [],
   "source": [
    "fig, ax = plt.subplots(4,1, constrained_layout=True, figsize=(8,12))\n",
    "compon_0 = deembed_ts(np.matmul(np.expand_dims(u[:,0], axis=1), np.expand_dims(vh[0,:], axis=0)), N=N, L=L, K=K)*s[0]\n",
    "ax[0].set_title(\"Reconstructed series, component 0\")\n",
    "ax[0].plot(binned_iso_time, compon_0, color='red')\n",
    "ax[0].set_ylabel(\"Temperature\")\n",
    "ax[0].grid()\n",
    "\n",
    "Nbegi = 1\n",
    "plot_index = 1\n",
    "\n",
    "for i in range(Nbegi,Nbegi+6,2):\n",
    "    compon_a = deembed_ts(np.matmul(np.expand_dims(u[:,i], axis=1), np.expand_dims(vh[i,:], axis=0)), N=N, L=L, K=K)*s[i]\n",
    "    compon_b = deembed_ts(np.matmul(np.expand_dims(u[:,i+1], axis=1), np.expand_dims(vh[i+1,:], axis=0)), N=N, L=L, K=K)*s[i+1]\n",
    "    compon = compon_a+compon_b\n",
    "    ax[plot_index].set_title(\"Reconstructed series, grouping \"+str(i)+\"+\"+str(i+1))\n",
    "    ax[plot_index].plot(binned_iso_time, compon, color='red')\n",
    "    ax[plot_index].set_ylabel(\"Temperature\")\n",
    "    ax[plot_index].grid()\n",
    "    if plot_index != 3 :\n",
    "        ax[plot_index].get_xaxis().set_ticklabels([])\n",
    "    plot_index = plot_index+1"
   ]
  }
 ],
 "metadata": {
  "kernelspec": {
   "display_name": "Python 3",
   "language": "python",
   "name": "python3"
  },
  "language_info": {
   "codemirror_mode": {
    "name": "ipython",
    "version": 3
   },
   "file_extension": ".py",
   "mimetype": "text/x-python",
   "name": "python",
   "nbconvert_exporter": "python",
   "pygments_lexer": "ipython3",
   "version": "3.11.1"
  }
 },
 "nbformat": 4,
 "nbformat_minor": 4
}
