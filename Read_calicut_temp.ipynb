{
 "cells": [
  {
   "cell_type": "code",
   "execution_count": null,
   "metadata": {},
   "outputs": [],
   "source": [
    "import numpy as np\n",
    "import matplotlib.pyplot as plt\n",
    "import datetime\n",
    "# %matplotlib notebook\n"
   ]
  },
  {
   "cell_type": "code",
   "execution_count": null,
   "metadata": {},
   "outputs": [],
   "source": [
    "calicut_temp = [] = []\n",
    "calicut_iso_time = []\n",
    "\n",
    "PATH = \"../../CLIMATE_DATA/CALICUT/\"\n",
    "for year in range(1991,2022):\n",
    "    fname = \"temp_\"+str(year)+\".csv\" \n",
    "    f = open(PATH+fname, 'r')\n",
    "    for line in f:\n",
    "        line = line.strip()\n",
    "        line = line.split()\n",
    "        temp = float(line[1].split(\",\")[0])\n",
    "        if temp < 800:\n",
    "            calicut_iso_time = np.append(calicut_iso_time, datetime.datetime.fromisoformat(line[0]))\n",
    "            # calicut_time = datetime.datetime.fromisoformat(line[0]).timestamp()\n",
    "            calicut_temp = np.append(calicut_temp, temp)"
   ]
  },
  {
   "cell_type": "code",
   "execution_count": null,
   "metadata": {},
   "outputs": [],
   "source": [
    "plt.figure(figsize=(16,9))\n",
    "plt.plot(calicut_iso_time, calicut_temp)\n",
    "plt.ylim(200,400)"
   ]
  }
 ],
 "metadata": {
  "kernelspec": {
   "display_name": "Python 3",
   "language": "python",
   "name": "python3"
  },
  "language_info": {
   "codemirror_mode": {
    "name": "ipython",
    "version": 3
   },
   "file_extension": ".py",
   "mimetype": "text/x-python",
   "name": "python",
   "nbconvert_exporter": "python",
   "pygments_lexer": "ipython3",
   "version": "3.11.1"
  }
 },
 "nbformat": 4,
 "nbformat_minor": 4
}
